{
 "cells": [
  {
   "cell_type": "markdown",
   "metadata": {},
   "source": [
    "# Validus Fund IV Hedging Case Study\n",
    "Validus Fund IV is a Private Equity Fund (USD Fund) and invests in several kinds of Assets across Europe and North America, it is thus exposed to Foreign Exchange risk. The fund managers are particularly interested to hedge their risk by using Knock-In Options.\n",
    "You are being given market data (please find excel file attached) and are asked to perform the following:\n",
    "\n",
    "#### a) Please create some hypothetical fund model including USD, EUR and GBP investments.\n",
    "#### b) Calculate the IRR (internal rate of return) at risk of the fund model you created by using Forex Monte Carlo simulation. You can assume the returns of investments are static. Please use any model you think is suitable for this task."
   ]
  },
  {
   "cell_type": "markdown",
   "metadata": {},
   "source": [
    "# Assumptions Ahead\n",
    "1. Assume there is 100 million USD of captial for FX investment. Here the volatility parity of FX rate is applied to decide weights for foreign investment of assets in EUR and GBP.\n",
    "2. According to the interest of the fund manager, a barrier knock-in swaption used for hedging of FX exposure is priced here by FX Monte Carlo simulation, with IRR at risk be a metric of risk return. Here mean value of FX rate is set to be the threshold of barrier swaption."
   ]
  },
  {
   "cell_type": "code",
   "execution_count": 1,
   "metadata": {},
   "outputs": [],
   "source": [
    "#import packages\n",
    "import numpy as np\n",
    "import math\n",
    "from math import sqrt, exp\n",
    "import pandas as pd\n",
    "import matplotlib\n",
    "import matplotlib.pyplot as plt\n",
    "from scipy.stats import norm\n",
    "import scipy.stats as st\n",
    "import statsmodels as sm\n",
    "import warnings\n",
    "warnings.filterwarnings(\"ignore\")"
   ]
  },
  {
   "cell_type": "code",
   "execution_count": null,
   "metadata": {},
   "outputs": [],
   "source": [
    "#data reading with format cleaning\n",
    "df = pd.read_excel('market_data_2019.04.10.xlsx', header=4, parse_dates=['BBG Ticker'], sheet_name = 'Data_Values',index_col=1)\n",
    "df = df.iloc[[1]+list(range(3,5030)),1:]\n",
    "df.head()"
   ]
  },
  {
   "cell_type": "code",
   "execution_count": null,
   "metadata": {},
   "outputs": [],
   "source": [
    "#get FX rate and calculate the volatilities\n",
    "fx = df.iloc[1:,0:2]\n",
    "fx.head()"
   ]
  },
  {
   "cell_type": "code",
   "execution_count": null,
   "metadata": {},
   "outputs": [],
   "source": [
    "fx_vol = pd.DataFrame(fx.std())\n",
    "fx.std()"
   ]
  },
  {
   "cell_type": "code",
   "execution_count": null,
   "metadata": {},
   "outputs": [],
   "source": [
    "#Perform volatility parity on investment weights\n",
    "weight = pd.DataFrame(np.reciprocal(fx_vol.values)/np.reciprocal(fx_vol.values).sum())\n",
    "exposure = pd.DataFrame(weight*100)\n",
    "exposure.columns = ['Million USD']\n",
    "exposure.index = fx_vol.index\n",
    "exposure"
   ]
  },
  {
   "cell_type": "markdown",
   "metadata": {},
   "source": [
    "Here we would decide to invest approximately 54.4 million USD in EUR currency exposure and 45.6 million USD in GBP currency exposure. Then, the knock-in swaptions are used to hedge the FX risk."
   ]
  },
  {
   "cell_type": "markdown",
   "metadata": {},
   "source": [
    "# Introduction of Knock-in Swaption\n",
    "The knock-in option is a type of barrier option, with two cases of *down-and-in* and *up-and-in*. Here the option applied is the cross currency swaption, where the right of the buyer to exercise the swaption appears on certain barrier.\n",
    "\n",
    "Here Validus Fund is in USD so we are expecting to convert the foreign assets into USD in the furture. In this case if foreign currencies depreciate in the future, i.e. if the FX rate decreases, the fund would face fx risk. Therefore, a *down-and-in* receiver swaption is a suggested choice for the fund manager.\n",
    "\n",
    "A knock-in cross currency swaption expires worthless unless the fx rate reaches the barrier before expiry. If the cross currency rate hits the bottom line at some time before expiry, then the barrier swaption becomes a vanilla swaption. Here we assume an European swaption and would apply BSM model for pricing."
   ]
  },
  {
   "cell_type": "markdown",
   "metadata": {},
   "source": [
    "### Setting the threshold for the bottom line FX rate\n",
    "Here we make the assumption to take the mean value of FX rate as a bottom-line threshold for the Swaptions"
   ]
  },
  {
   "cell_type": "code",
   "execution_count": 6,
   "metadata": {},
   "outputs": [
    {
     "data": {
      "text/plain": [
       "EURUSD BGN Curncy    1.213244\n",
       "GBPUSD BGN Curncy    1.599435\n",
       "dtype: float64"
      ]
     },
     "execution_count": 6,
     "metadata": {},
     "output_type": "execute_result"
    }
   ],
   "source": [
    "fx_thre = fx.mean()\n",
    "fx_thre"
   ]
  },
  {
   "cell_type": "markdown",
   "metadata": {},
   "source": [
    "### Distribution fitting of FX rates\n",
    "The usage of distribution fitting of EURUSD and GBPUSD currency is to set random numbers of FX rate in Monte Carlo Simulation based on the same distribution of historical data.\n",
    "\n",
    "#### Distribution Fitting with Sum of Square Error (SSE) "
   ]
  },
  {
   "cell_type": "code",
   "execution_count": 7,
   "metadata": {},
   "outputs": [],
   "source": [
    "# Create models from data\n",
    "def best_fit_distribution(data, bins=200, ax=None):\n",
    "    \"\"\"Model data by finding best fit distribution to data\"\"\"\n",
    "    # Get histogram of original data\n",
    "    y, x = np.histogram(data, bins=bins, density=True)\n",
    "    x = (x + np.roll(x, -1))[:-1] / 2.0\n",
    "\n",
    "    # Distributions to check\n",
    "    DISTRIBUTIONS = [        \n",
    "        st.alpha,st.anglit,st.arcsine,st.beta,st.betaprime,st.bradford,st.burr,st.cauchy,st.chi,st.chi2,st.cosine,\n",
    "        st.dgamma,st.dweibull,st.erlang,st.expon,st.exponnorm,st.exponweib,st.exponpow,st.f,st.fatiguelife,st.fisk,\n",
    "        st.foldcauchy,st.foldnorm,st.frechet_r,st.frechet_l,st.genlogistic,st.genpareto,st.gennorm,st.genexpon,\n",
    "        st.genextreme,st.gausshyper,st.gamma,st.gengamma,st.genhalflogistic,st.gilbrat,st.gompertz,st.gumbel_r,\n",
    "        st.gumbel_l,st.halfcauchy,st.halflogistic,st.halfnorm,st.halfgennorm,st.hypsecant,st.invgamma,st.invgauss,\n",
    "        st.invweibull,st.johnsonsb,st.johnsonsu,st.ksone,st.kstwobign,st.laplace,st.levy,st.levy_l,st.levy_stable,\n",
    "        st.logistic,st.loggamma,st.loglaplace,st.lognorm,st.lomax,st.maxwell,st.mielke,st.nakagami,st.ncx2,st.ncf,\n",
    "        st.nct,st.norm,st.pareto,st.pearson3,st.powerlaw,st.powerlognorm,st.powernorm,st.rdist,st.reciprocal,\n",
    "        st.rayleigh,st.rice,st.recipinvgauss,st.semicircular,st.t,st.triang,st.truncexpon,st.truncnorm,st.tukeylambda,\n",
    "        st.uniform,st.vonmises,st.vonmises_line,st.wald,st.weibull_min,st.weibull_max,st.wrapcauchy\n",
    "    ]\n",
    "\n",
    "    # Best holders\n",
    "    best_distribution = st.norm\n",
    "    best_params = (0.0, 1.0)\n",
    "    best_sse = np.inf\n",
    "\n",
    "    # Estimate distribution parameters from data\n",
    "    for distribution in DISTRIBUTIONS:\n",
    "\n",
    "        # Try to fit the distribution\n",
    "        try:\n",
    "            # Ignore warnings from data that can't be fit\n",
    "            with warnings.catch_warnings():\n",
    "                warnings.filterwarnings('ignore')\n",
    "\n",
    "                # fit dist to data\n",
    "                params = distribution.fit(data)\n",
    "\n",
    "                # Separate parts of parameters\n",
    "                arg = params[:-2]\n",
    "                loc = params[-2]\n",
    "                scale = params[-1]\n",
    "\n",
    "                # Calculate fitted PDF and error with fit in distribution\n",
    "                pdf = distribution.pdf(x, loc=loc, scale=scale, *arg)\n",
    "                sse = np.sum(np.power(y - pdf, 2.0))\n",
    "\n",
    "                # if axis pass in add to plot\n",
    "                try:\n",
    "                    if ax:\n",
    "                        pd.Series(pdf, x).plot(ax=ax)\n",
    "                    end \n",
    "                except Exception:\n",
    "                    pass\n",
    "\n",
    "                # identify if this distribution is better\n",
    "                if best_sse > sse > 0:\n",
    "                    best_distribution = distribution\n",
    "                    best_params = params\n",
    "                    best_sse = sse\n",
    "\n",
    "        except Exception:\n",
    "            pass\n",
    "\n",
    "    return (best_distribution.name, best_params)\n",
    "\n",
    "def make_pdf(dist, params, size=len(fx)):\n",
    "    \"\"\"Generate distributions's Probability Distribution Function \"\"\"\n",
    "\n",
    "    # Separate parts of parameters\n",
    "    arg = params[:-2]\n",
    "    loc = params[-2]\n",
    "    scale = params[-1]\n",
    "\n",
    "    # Get sane start and end points of distribution\n",
    "    start = dist.ppf(0.01, *arg, loc=loc, scale=scale) if arg else dist.ppf(0.01, loc=loc, scale=scale)\n",
    "    end = dist.ppf(0.99, *arg, loc=loc, scale=scale) if arg else dist.ppf(0.99, loc=loc, scale=scale)\n",
    "\n",
    "    # Build PDF and turn into pandas Series\n",
    "    x = np.linspace(start, end, size)\n",
    "    y = dist.pdf(x, loc=loc, scale=scale, *arg)\n",
    "    pdf = pd.Series(y, x)\n",
    "\n",
    "    return pdf\n"
   ]
  },
  {
   "cell_type": "code",
   "execution_count": 8,
   "metadata": {},
   "outputs": [],
   "source": [
    "# Load historical FX data from statsmodels datasets\n",
    "data_eur = pd.Series(fx.iloc[:,0])\n",
    "data_gbp = pd.Series(fx.iloc[:,1])"
   ]
  },
  {
   "cell_type": "code",
   "execution_count": 9,
   "metadata": {},
   "outputs": [
    {
     "data": {
      "image/png": "[encoded data removed]",
      "text/plain": [
       "<Figure size 576x360 with 1 Axes>"
      ]
     },
     "metadata": {
      "needs_background": "light"
     },
     "output_type": "display_data"
    }
   ],
   "source": [
    "# Plot histograms of EUR and GBP FX rate distribution for comparison\n",
    "ax_eur = data_eur.plot(figsize=(8,5), kind='hist', bins=50, normed=True, alpha=0.5, color = 'r',legend=True)\n",
    "ax_gbp = data_gbp.plot(figsize=(8,5), kind='hist', bins=50, normed=True, alpha=0.5, color = 'b',legend=True)\n"
   ]
  },
  {
   "cell_type": "code",
   "execution_count": 10,
   "metadata": {},
   "outputs": [],
   "source": [
    "# Save plot limits\n",
    "dataYLim_eur = ax_eur.get_ylim()\n",
    "dataYLim_gbp = ax_gbp.get_ylim()\n"
   ]
  },
  {
   "cell_type": "code",
   "execution_count": 11,
   "metadata": {},
   "outputs": [
    {
     "data": {
      "text/plain": [
       "'norm'"
      ]
     },
     "execution_count": 11,
     "metadata": {},
     "output_type": "execute_result"
    }
   ],
   "source": [
    "# Find best fit distribution for EURUSD\n",
    "best_fit_name_eur, best_fit_params_eur = best_fit_distribution(data_eur, 200, ax_eur)\n",
    "best_fit_name_eur"
   ]
  },
  {
   "cell_type": "code",
   "execution_count": 12,
   "metadata": {},
   "outputs": [
    {
     "data": {
      "text/plain": [
       "'norm'"
      ]
     },
     "execution_count": 12,
     "metadata": {},
     "output_type": "execute_result"
    }
   ],
   "source": [
    "# Find best fit distribution for GBPUSD\n",
    "best_fit_name_gbp, best_fit_params_gbp = best_fit_distribution(data_gbp, 200, ax_gbp)\n",
    "best_fit_name_gbp"
   ]
  },
  {
   "cell_type": "markdown",
   "metadata": {},
   "source": [
    "#### Here we can see the best fit distribution for both EURUSD and GBPUSD is *normal distribution*."
   ]
  },
  {
   "cell_type": "code",
   "execution_count": 13,
   "metadata": {},
   "outputs": [],
   "source": [
    "# Make PDF with best params \n",
    "best_dist_eur = getattr(st, best_fit_name_eur)\n",
    "best_dist_gbp = getattr(st, best_fit_name_gbp)\n",
    "pdf_eur = make_pdf(best_dist_eur, best_fit_params_eur)\n",
    "pdf_gbp = make_pdf(best_dist_gbp, best_fit_params_gbp)\n"
   ]
  },
  {
   "cell_type": "code",
   "execution_count": 14,
   "metadata": {},
   "outputs": [
    {
     "data": {
      "text/plain": [
       "<matplotlib.axes._subplots.AxesSubplot at 0x1b16f1cfe48>"
      ]
     },
     "execution_count": 14,
     "metadata": {},
     "output_type": "execute_result"
    },
    {
     "data": {
      "image/png": "[encoded data removed]",
      "text/plain": [
       "<Figure size 576x360 with 1 Axes>"
      ]
     },
     "metadata": {
      "needs_background": "light"
     },
     "output_type": "display_data"
    }
   ],
   "source": [
    "# Display the best fitted distribution for EURUSD \n",
    "ax_eur = pdf_eur.plot(figsize=(8,5),lw=2, label='PDF', legend=True)\n",
    "ax_eur.set_title('Best Fitted Distributions for EURUSD Curncy')\n",
    "ax_eur.set_xlabel('Date')\n",
    "ax_eur.set_ylabel('Frequency')\n",
    "data_eur.plot(kind='hist', bins=50, normed=True, alpha=0.5, label='Data', legend=True, ax=ax_eur)\n"
   ]
  },
  {
   "cell_type": "code",
   "execution_count": 15,
   "metadata": {},
   "outputs": [
    {
     "data": {
      "text/html": [
       "<div>\n",
       "<style scoped>\n",
       "    .dataframe tbody tr th:only-of-type {\n",
       "        vertical-align: middle;\n",
       "    }\n",
       "\n",
       "    .dataframe tbody tr th {\n",
       "        vertical-align: top;\n",
       "    }\n",
       "\n",
       "    .dataframe thead th {\n",
       "        text-align: right;\n",
       "    }\n",
       "</style>\n",
       "<table border=\"1\" class=\"dataframe\">\n",
       "  <thead>\n",
       "    <tr style=\"text-align: right;\">\n",
       "      <th></th>\n",
       "      <th>0</th>\n",
       "    </tr>\n",
       "  </thead>\n",
       "  <tbody>\n",
       "    <tr>\n",
       "      <th>count</th>\n",
       "      <td>5027.000000</td>\n",
       "    </tr>\n",
       "    <tr>\n",
       "      <th>mean</th>\n",
       "      <td>0.210594</td>\n",
       "    </tr>\n",
       "    <tr>\n",
       "      <th>std</th>\n",
       "      <td>0.127323</td>\n",
       "    </tr>\n",
       "    <tr>\n",
       "      <th>min</th>\n",
       "      <td>0.026652</td>\n",
       "    </tr>\n",
       "    <tr>\n",
       "      <th>25%</th>\n",
       "      <td>0.087036</td>\n",
       "    </tr>\n",
       "    <tr>\n",
       "      <th>50%</th>\n",
       "      <td>0.202713</td>\n",
       "    </tr>\n",
       "    <tr>\n",
       "      <th>75%</th>\n",
       "      <td>0.336824</td>\n",
       "    </tr>\n",
       "    <tr>\n",
       "      <th>max</th>\n",
       "      <td>0.398942</td>\n",
       "    </tr>\n",
       "  </tbody>\n",
       "</table>\n",
       "</div>"
      ],
      "text/plain": [
       "                 0\n",
       "count  5027.000000\n",
       "mean      0.210594\n",
       "std       0.127323\n",
       "min       0.026652\n",
       "25%       0.087036\n",
       "50%       0.202713\n",
       "75%       0.336824\n",
       "max       0.398942"
      ]
     },
     "execution_count": 15,
     "metadata": {},
     "output_type": "execute_result"
    }
   ],
   "source": [
    "# Get summary statistics for the fitted distribution of EURUSD Curncy\n",
    "stats_eur = pd.DataFrame(pdf_eur).describe()\n",
    "stats_eur"
   ]
  },
  {
   "cell_type": "code",
   "execution_count": 16,
   "metadata": {},
   "outputs": [
    {
     "data": {
      "text/plain": [
       "<matplotlib.axes._subplots.AxesSubplot at 0x1b16f289198>"
      ]
     },
     "execution_count": 16,
     "metadata": {},
     "output_type": "execute_result"
    },
    {
     "data": {
      "image/png": "[encoded data removed]",
      "text/plain": [
       "<Figure size 576x360 with 1 Axes>"
      ]
     },
     "metadata": {
      "needs_background": "light"
     },
     "output_type": "display_data"
    }
   ],
   "source": [
    "# Display the best fitted distribution for GBPUSD\n",
    "ax_gbp = pdf_gbp.plot(figsize=(8,5),lw=2, label='PDF', legend=True)\n",
    "ax_gbp.set_title('Best Fitted Distributions for GBPUSD Curncy')\n",
    "ax_gbp.set_xlabel('Date')\n",
    "ax_gbp.set_ylabel('Frequency')\n",
    "data_gbp.plot(kind='hist', bins=50, normed=True, alpha=0.5, label='Data', legend=True, ax=ax_gbp)"
   ]
  },
  {
   "cell_type": "code",
   "execution_count": 17,
   "metadata": {},
   "outputs": [
    {
     "data": {
      "text/html": [
       "<div>\n",
       "<style scoped>\n",
       "    .dataframe tbody tr th:only-of-type {\n",
       "        vertical-align: middle;\n",
       "    }\n",
       "\n",
       "    .dataframe tbody tr th {\n",
       "        vertical-align: top;\n",
       "    }\n",
       "\n",
       "    .dataframe thead th {\n",
       "        text-align: right;\n",
       "    }\n",
       "</style>\n",
       "<table border=\"1\" class=\"dataframe\">\n",
       "  <thead>\n",
       "    <tr style=\"text-align: right;\">\n",
       "      <th></th>\n",
       "      <th>0</th>\n",
       "    </tr>\n",
       "  </thead>\n",
       "  <tbody>\n",
       "    <tr>\n",
       "      <th>count</th>\n",
       "      <td>5027.000000</td>\n",
       "    </tr>\n",
       "    <tr>\n",
       "      <th>mean</th>\n",
       "      <td>0.210594</td>\n",
       "    </tr>\n",
       "    <tr>\n",
       "      <th>std</th>\n",
       "      <td>0.127323</td>\n",
       "    </tr>\n",
       "    <tr>\n",
       "      <th>min</th>\n",
       "      <td>0.026652</td>\n",
       "    </tr>\n",
       "    <tr>\n",
       "      <th>25%</th>\n",
       "      <td>0.087036</td>\n",
       "    </tr>\n",
       "    <tr>\n",
       "      <th>50%</th>\n",
       "      <td>0.202713</td>\n",
       "    </tr>\n",
       "    <tr>\n",
       "      <th>75%</th>\n",
       "      <td>0.336824</td>\n",
       "    </tr>\n",
       "    <tr>\n",
       "      <th>max</th>\n",
       "      <td>0.398942</td>\n",
       "    </tr>\n",
       "  </tbody>\n",
       "</table>\n",
       "</div>"
      ],
      "text/plain": [
       "                 0\n",
       "count  5027.000000\n",
       "mean      0.210594\n",
       "std       0.127323\n",
       "min       0.026652\n",
       "25%       0.087036\n",
       "50%       0.202713\n",
       "75%       0.336824\n",
       "max       0.398942"
      ]
     },
     "execution_count": 17,
     "metadata": {},
     "output_type": "execute_result"
    }
   ],
   "source": [
    "# Get summary statistics for the fitted distribution of GBPUSD Curncy\n",
    "stats_gbp = pd.DataFrame(pdf_gbp).describe()\n",
    "stats_gbp"
   ]
  },
  {
   "cell_type": "markdown",
   "metadata": {},
   "source": [
    "# Pricing Model Designing\n",
    "\n",
    "Here a down-and-in receiver swaption is a reasonable hedging instrument to use. Since we want to receive fixed and pay floating rates when FX forward rate is below a bottom line.\n",
    "\n",
    "## Notations\n",
    "\n",
    "\n",
    "\n",
    "$F$ = forward exchange rate of underlying swap\n",
    "<br>\n",
    "$X$ = strike rate of swaption\n",
    "<br>\n",
    "$r$ = risk-free interest rate\n",
    "<br>\n",
    "$T$ = time to expiration in years\n",
    "<br>\n",
    "$t_{1}$ = tenor of swap in years\n",
    "<br>\n",
    "$\\sigma$ = volatility of the forward-starting swap rate\n",
    "<br>\n",
    "$m$ = compoundings per year in swap rate\n",
    "<br>\n",
    "Let $p$ denotes the price of a receiver swaption\n",
    "<br>\n",
    "$p = [\\frac{1 - (1 + F/m)^{-t_{1}\\times m}}{F}] \\cdot e^{-rT}[XN(-d_{2}) - FN(-d_{1}) ]$\n",
    "<br>\n",
    "where,\n",
    "<br>\n",
    "$d_{1} = [\\frac{ln(F/X) + (\\sigma ^2 / 2)T}{\\sigma\\sqrt{T}}]$ and $d_{2} = d_{1} - \\sigma\\sqrt{T}$\n"
   ]
  },
  {
   "cell_type": "code",
   "execution_count": 18,
   "metadata": {},
   "outputs": [],
   "source": [
    "#Relevent data for swaption pricing\n",
    "df_eur_forward = df.iloc[:,3:31]\n",
    "df_gbp_forward = df.iloc[:,31:59]\n",
    "df_eur_impvol = df.iloc[:,78:96]\n",
    "df_gbp_impvol = df.iloc[:,96:114]\n",
    "df_eur_yield = df.iloc[:,132:147]\n",
    "df_gbp_yield = df.iloc[:,147:162]"
   ]
  },
  {
   "cell_type": "code",
   "execution_count": 19,
   "metadata": {},
   "outputs": [],
   "source": [
    "def receiver_swaption(F, X, r, T, t1, sigma, m):\n",
    "    \"\"\"pricing a receiver swaption by applying BSM model\"\"\"\n",
    "    d1 = (math.log(F/X) + math.pow(sigma,2)/2 * T)/ sigma*sqrt(T)\n",
    "    d2 = d1 - sigma * sqrt(T)\n",
    "    p = (1-math.pow((1+F/m),(-t1*m)))/F * math.pow(exp(1),(-r*T))*(X*norm.cdf(-d2) - F*norm.cdf(-d1))\n",
    "    return p   "
   ]
  },
  {
   "cell_type": "markdown",
   "metadata": {},
   "source": [
    "#### Test function\n",
    "Consider a 2-year receiver swaption on a 4-year swap with semi-annual compounding. The forward swap rate of 7% starts 2 years from now and ends 6 years from now. The strike is 7.5%; the risk-free interest rate is 6%; the volatility of the forward starting swap rate is 20% p.a."
   ]
  },
  {
   "cell_type": "code",
   "execution_count": 20,
   "metadata": {},
   "outputs": [
    {
     "data": {
      "text/plain": [
       "0.03308262379151632"
      ]
     },
     "execution_count": 20,
     "metadata": {},
     "output_type": "execute_result"
    }
   ],
   "source": [
    "p_test = receiver_swaption(0.07, 0.075, 0.06, 2, 4, 0.2, 2)\n",
    "p_test"
   ]
  },
  {
   "cell_type": "markdown",
   "metadata": {},
   "source": [
    "## My ideas here\n",
    "\n",
    "#### Assume first without considering the barrier, assume we take a 2 year receiver swaption on a 4 year swap with monthly compounding\n",
    "\n",
    "Here we have got the data for  <br>\n",
    "$F$: forward exchange rate at different maturities;<br> \n",
    "$X$: the swap rate at the start of swap contract to make the initial value zero;<br> \n",
    "$r$: set 10 yr yield rate as the risk-free rate; <br>\n",
    "$T$ = 2; <br> \n",
    "$t_{1}$ = 4; <br> \n",
    "$\\sigma$: apply data of 2-year implied volatility, transfer to annual volatility;<br> \n",
    "$m$ = 12 <br>\n",
    "\n",
    "Therefore, we can get the prices of the receiver swaption without barrier using the BSM formula.\n"
   ]
  },
  {
   "cell_type": "markdown",
   "metadata": {},
   "source": [
    "Taking the consideration of the barrier, here we set the mean value of FX rate as the bottom-line barrier, which are 1.249300 for EURUSD and 1.047466 for GBPUSD.\n",
    "\n",
    "We first generate random rates with the same distribution as the historical data that either meet the barrier or not. Then perform the FX Monte Carlo Simulation on swaption pricing. In the case when FX rate doesn't reach the bottom, the swaption value would be zero. Otherwise it would be calculated in the normal way as stated before."
   ]
  },
  {
   "cell_type": "code",
   "execution_count": 21,
   "metadata": {},
   "outputs": [],
   "source": [
    "def fx_generator (mu, sigma, N):\n",
    "    \"\"\"Generate random sample based on historical distribution of FX rates\"\"\"\n",
    "    s = np.random.normal(mu, sigma, N)\n",
    "    s[s < 0] = 0\n",
    "    return s"
   ]
  },
  {
   "cell_type": "code",
   "execution_count": 22,
   "metadata": {},
   "outputs": [
    {
     "data": {
      "text/html": [
       "<div>\n",
       "<style scoped>\n",
       "    .dataframe tbody tr th:only-of-type {\n",
       "        vertical-align: middle;\n",
       "    }\n",
       "\n",
       "    .dataframe tbody tr th {\n",
       "        vertical-align: top;\n",
       "    }\n",
       "\n",
       "    .dataframe thead th {\n",
       "        text-align: right;\n",
       "    }\n",
       "</style>\n",
       "<table border=\"1\" class=\"dataframe\">\n",
       "  <thead>\n",
       "    <tr style=\"text-align: right;\">\n",
       "      <th></th>\n",
       "      <th>0</th>\n",
       "    </tr>\n",
       "  </thead>\n",
       "  <tbody>\n",
       "    <tr>\n",
       "      <th>0</th>\n",
       "      <td>1.032164</td>\n",
       "    </tr>\n",
       "    <tr>\n",
       "      <th>1</th>\n",
       "      <td>1.484565</td>\n",
       "    </tr>\n",
       "    <tr>\n",
       "      <th>2</th>\n",
       "      <td>1.441342</td>\n",
       "    </tr>\n",
       "    <tr>\n",
       "      <th>3</th>\n",
       "      <td>0.055075</td>\n",
       "    </tr>\n",
       "    <tr>\n",
       "      <th>4</th>\n",
       "      <td>1.622023</td>\n",
       "    </tr>\n",
       "  </tbody>\n",
       "</table>\n",
       "</div>"
      ],
      "text/plain": [
       "          0\n",
       "0  1.032164\n",
       "1  1.484565\n",
       "2  1.441342\n",
       "3  0.055075\n",
       "4  1.622023"
      ]
     },
     "execution_count": 22,
     "metadata": {},
     "output_type": "execute_result"
    }
   ],
   "source": [
    "#Generate random sample of EURUSD\n",
    "mu_eur, sigma_eur, N = 1.249300, 0.755314, 1000 \n",
    "s_eur = pd.DataFrame(fx_generator(mu_eur, sigma_eur, N))\n",
    "s_eur.head()"
   ]
  },
  {
   "cell_type": "code",
   "execution_count": 26,
   "metadata": {},
   "outputs": [
    {
     "data": {
      "text/html": [
       "<div>\n",
       "<style scoped>\n",
       "    .dataframe tbody tr th:only-of-type {\n",
       "        vertical-align: middle;\n",
       "    }\n",
       "\n",
       "    .dataframe tbody tr th {\n",
       "        vertical-align: top;\n",
       "    }\n",
       "\n",
       "    .dataframe thead th {\n",
       "        text-align: right;\n",
       "    }\n",
       "</style>\n",
       "<table border=\"1\" class=\"dataframe\">\n",
       "  <thead>\n",
       "    <tr style=\"text-align: right;\">\n",
       "      <th></th>\n",
       "      <th>0</th>\n",
       "    </tr>\n",
       "  </thead>\n",
       "  <tbody>\n",
       "    <tr>\n",
       "      <th>0</th>\n",
       "      <td>1.952649</td>\n",
       "    </tr>\n",
       "    <tr>\n",
       "      <th>1</th>\n",
       "      <td>1.047684</td>\n",
       "    </tr>\n",
       "    <tr>\n",
       "      <th>2</th>\n",
       "      <td>1.242938</td>\n",
       "    </tr>\n",
       "    <tr>\n",
       "      <th>3</th>\n",
       "      <td>1.911868</td>\n",
       "    </tr>\n",
       "    <tr>\n",
       "      <th>4</th>\n",
       "      <td>1.603521</td>\n",
       "    </tr>\n",
       "  </tbody>\n",
       "</table>\n",
       "</div>"
      ],
      "text/plain": [
       "          0\n",
       "0  1.952649\n",
       "1  1.047684\n",
       "2  1.242938\n",
       "3  1.911868\n",
       "4  1.603521"
      ]
     },
     "execution_count": 26,
     "metadata": {},
     "output_type": "execute_result"
    }
   ],
   "source": [
    "#Generate random sample of GBPUSD\n",
    "mu_gbp, sigma_gbp = 1.047466, 0.633287\n",
    "s_gbp = pd.DataFrame(fx_generator(mu_gbp, sigma_gbp, N))\n",
    "s_gbp.head()"
   ]
  },
  {
   "cell_type": "markdown",
   "metadata": {},
   "source": [
    "The next step would be to put the random number generated inside a for loop for several times to get the expected pricing for the down-and-in swaption. "
   ]
  },
  {
   "cell_type": "code",
   "execution_count": 30,
   "metadata": {},
   "outputs": [],
   "source": [
    "#pricing of GBPUSD\n",
    "#s = pd.DataFrame(index=range(1000),columns=range(1000))\n",
    "#p_gbp = pd.DataFrame(index=range(1000),columns=range(1000))\n",
    "#for i in range(1000):\n",
    "    #s.iloc[i,:] = s_gbp\n",
    "    #if s.iloc[i,j] < mu_gbp:\n",
    "        #p_gbp.iloc[i,j] = receiver_swaption(F, X, r, T, t1, sigma, m)\n",
    "    #else:\n",
    "        #p_gbp.iloc[i,j] = 0\n",
    "#p_gbp = p_gbp.mean() "
   ]
  },
  {
   "cell_type": "markdown",
   "metadata": {},
   "source": [
    "## IRR at risk\n",
    "\n",
    "The rational of IRR is the required rate of return when the discounted value of costs equal to the discounted value of profits. So when performing the FX Monte Carlo Simulation we would get each random process a rate of IRR. My idea is to summarize the overall IRR and set a mean value of IRR to be the IRR at risk."
   ]
  },
  {
   "cell_type": "markdown",
   "metadata": {},
   "source": [
    "*The approximate time I spent on this case study is 1.5 days.*"
   ]
  }
 ],
 "metadata": {
  "kernelspec": {
   "display_name": "Python 3",
   "language": "python",
   "name": "python3"
  },
  "language_info": {
   "codemirror_mode": {
    "name": "ipython",
    "version": 3
   },
   "file_extension": ".py",
   "mimetype": "text/x-python",
   "name": "python",
   "nbconvert_exporter": "python",
   "pygments_lexer": "ipython3",
   "version": "3.7.0"
  }
 },
 "nbformat": 4,
 "nbformat_minor": 2
}
